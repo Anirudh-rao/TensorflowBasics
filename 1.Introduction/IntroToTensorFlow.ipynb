{
 "cells": [
  {
   "cell_type": "markdown",
   "metadata": {},
   "source": [
    "## An Introduction to TensorFlow\n",
    "\n",
    "Lets Start with a Basic Simple Number Prediction.\n",
    "\n",
    "Lets Start it with all with importing libraries:\n",
    "\n",
    "1. TensorFlow\n",
    "2. Numpy\n",
    "3. Keras\n"
   ]
  },
  {
   "cell_type": "code",
   "execution_count": 2,
   "metadata": {},
   "outputs": [],
   "source": [
    "import tensorflow as tf\n",
    "import numpy as np\n",
    "from tensorflow import keras"
   ]
  },
  {
   "cell_type": "markdown",
   "metadata": {},
   "source": [
    "To verify weather tensorflow is working  use the following command:\n",
    "```\n",
    "print(tf.__version__)\n",
    "```"
   ]
  },
  {
   "cell_type": "code",
   "execution_count": 2,
   "metadata": {},
   "outputs": [
    {
     "name": "stdout",
     "output_type": "stream",
     "text": [
      "2.7.0\n"
     ]
    }
   ],
   "source": [
    "print(tf.__version__)"
   ]
  },
  {
   "cell_type": "markdown",
   "metadata": {},
   "source": [
    "A Machine Learning Algorithm usually takes in Two parameters , One **Training** Dataset and **Label** Dataset.\n",
    "\n",
    "**Keras** has a Sequential API that allows us add on Neural Network Layers Like a Stack.\n",
    "For any neural network we need an **Optimizer** and a **Loss Function**. These are used to make the Neural Network Work Effectintly and Effectively.\n",
    "Lets pass some Numbers as Training and Label.\n",
    "\n"
   ]
  },
  {
   "cell_type": "code",
   "execution_count": 3,
   "metadata": {},
   "outputs": [],
   "source": [
    "model = tf.keras.Sequential([keras.layers.Dense(units=1, input_shape=[1])])\n",
    "model.compile(optimizer='sgd', loss='binary_crossentropy')\n",
    "xs = np.array([1.0, 2.0, 3.0, 4.0, 5.0, 6.0], dtype=float)\n",
    "ys = np.array([1.0, 1.5, 2.0, 2.5, 3.0, 3.5], dtype=float)"
   ]
  },
  {
   "cell_type": "markdown",
   "metadata": {},
   "source": [
    "Lets use **Model.fit** function to Glue all the things , i.e **Sequential Layer** , **Optimizer** , **Label Set** and **Train Set** that we initlized and run the neural network for a set amount of **epoch**. \n",
    "\n",
    "Generally for Some large Dataset,  Running an ML algorithm will consume lots time and resource .This thereby causes the network to become **fatigue** and hence we might not get the required results. This is where an **Epoch** Comes in.\n",
    "\n",
    "The dataset is split randomly into smaller chunks and then are passed to the network. An **Epoch** is simply put number of iterations the network will run"
   ]
  },
  {
   "cell_type": "code",
   "execution_count": 5,
   "metadata": {},
   "outputs": [
    {
     "name": "stdout",
     "output_type": "stream",
     "text": [
      "Epoch 1/10\n",
      "1/1 [==============================] - 0s 9ms/step - loss: -19.0615\n",
      "Epoch 2/10\n",
      "1/1 [==============================] - 0s 12ms/step - loss: -19.0615\n",
      "Epoch 3/10\n",
      "1/1 [==============================] - 0s 8ms/step - loss: -19.0615\n",
      "Epoch 4/10\n",
      "1/1 [==============================] - 0s 5ms/step - loss: -19.0615\n",
      "Epoch 5/10\n",
      "1/1 [==============================] - 0s 9ms/step - loss: -19.0615\n",
      "Epoch 6/10\n",
      "1/1 [==============================] - 0s 9ms/step - loss: -19.0615\n",
      "Epoch 7/10\n",
      "1/1 [==============================] - 0s 6ms/step - loss: -19.0615\n",
      "Epoch 8/10\n",
      "1/1 [==============================] - 0s 13ms/step - loss: -19.0615\n",
      "Epoch 9/10\n",
      "1/1 [==============================] - 0s 7ms/step - loss: -19.0615\n",
      "Epoch 10/10\n",
      "1/1 [==============================] - 0s 8ms/step - loss: -19.0615\n",
      "[[9.437998]]\n"
     ]
    }
   ],
   "source": [
    "model.fit(xs, ys, epochs=10)\n",
    "print(model.predict([7.0]))"
   ]
  },
  {
   "cell_type": "markdown",
   "metadata": {},
   "source": [
    "As we can see , the loss gradually reduces as we run the network. "
   ]
  },
  {
   "cell_type": "markdown",
   "metadata": {},
   "source": []
  }
 ],
 "metadata": {
  "kernelspec": {
   "display_name": "Python 3.9.7 64-bit",
   "language": "python",
   "name": "python3"
  },
  "language_info": {
   "codemirror_mode": {
    "name": "ipython",
    "version": 3
   },
   "file_extension": ".py",
   "mimetype": "text/x-python",
   "name": "python",
   "nbconvert_exporter": "python",
   "pygments_lexer": "ipython3",
   "version": "3.9.7"
  },
  "orig_nbformat": 4,
  "vscode": {
   "interpreter": {
    "hash": "8c93b56f12893a73f3fb26b619faf35eb67f0f4410719b74190040acf104b72e"
   }
  }
 },
 "nbformat": 4,
 "nbformat_minor": 2
}
